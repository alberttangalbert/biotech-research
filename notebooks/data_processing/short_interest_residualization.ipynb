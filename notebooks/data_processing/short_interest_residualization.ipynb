{
 "cells": [
  {
   "cell_type": "markdown",
   "metadata": {},
   "source": [
    "## Short Interest Residualization on Market Cap"
   ]
  },
  {
   "cell_type": "markdown",
   "metadata": {},
   "source": [
    "Short interest (% of float) can be influenced by market cap. For example, small-cap stocks often have higher short interest. \n",
    "If you don’t account for market cap, your model might just be picking up the effect of market cap instead of the real predictive power of short interest.\n",
    "\n",
    "Residualizing means removing the part of short interest that is explained by market cap, so what remains is the \"pure\" short interest effect."
   ]
  },
  {
   "cell_type": "markdown",
   "metadata": {},
   "source": [
    "## Load Raw Data"
   ]
  },
  {
   "cell_type": "code",
   "execution_count": 13,
   "metadata": {},
   "outputs": [
    {
     "name": "stdout",
     "output_type": "stream",
     "text": [
      "short_interest shape:  (120624, 3)\n",
      "market_cap shape:  (143295, 3)\n"
     ]
    }
   ],
   "source": [
    "import pandas as pd\n",
    "import os\n",
    "\n",
    "# Define base data directory\n",
    "RAW_DATA_DIR = os.path.abspath(\"../../data/raw\")\n",
    "PROCCESSED_DATA_DIR = os.path.abspath(\"../../data/processed\")\n",
    "\n",
    "# Load datasets\n",
    "sage_factors = pd.read_csv(os.path.join(PROCCESSED_DATA_DIR, \"sage_factors.csv\"))\n",
    "short_interest = sage_factors[[\"MONTH_END\", \"COMPANY_ID\", \"SHORT_INTEREST_PCT_FLOAT\"]]\n",
    "short_interest.loc[:, \"MONTH_END\"] = pd.to_datetime(short_interest[\"MONTH_END\"]) + pd.offsets.MonthEnd(0)\n",
    "print(\"short_interest shape: \", short_interest.shape)\n",
    "assert short_interest.shape == (120624, 3)\n",
    "\n",
    "market_cap = pd.read_csv(os.path.join(RAW_DATA_DIR, \"market_cap.csv\"))\n",
    "market_cap.loc[:, \"MONTH_END\"] = pd.to_datetime(market_cap[\"DAY_DATE\"]) + pd.offsets.MonthEnd(0)\n",
    "market_cap = market_cap.drop(columns=[\"DAY_DATE\"])\n",
    "print(\"market_cap shape: \", market_cap.shape)\n",
    "assert market_cap.shape == (143295, 3)"
   ]
  },
  {
   "cell_type": "markdown",
   "metadata": {},
   "source": [
    "## Merge and Clean Raw Data"
   ]
  },
  {
   "cell_type": "code",
   "execution_count": 19,
   "metadata": {},
   "outputs": [],
   "source": [
    "# Ensure MONTH_END is in datetime format in both datasets\n",
    "short_interest.loc[:, 'MONTH_END'] = pd.to_datetime(short_interest['MONTH_END'], errors='coerce')\n",
    "market_cap.loc[:, 'MONTH_END'] = pd.to_datetime(market_cap['MONTH_END'], errors='coerce')\n",
    "\n",
    "# Now merge the datasets\n",
    "merged_data = pd.merge(short_interest, market_cap, on=['COMPANY_ID', 'MONTH_END'], how='left')\n",
    "\n",
    "# Create month and year columns\n",
    "merged_data['YEAR'] = merged_data['MONTH_END'].dt.year\n",
    "merged_data['MONTH'] = merged_data['MONTH_END'].dt.month\n",
    "\n",
    "# Drop duplicates based on COMPANY_ID, YEAR, and MONTH, keeping the first occurrence\n",
    "merged_data = merged_data.drop_duplicates(subset=['COMPANY_ID', 'YEAR', 'MONTH'], keep='first')\n",
    "\n",
    "# Drop helper columns, including any unintended duplicates\n",
    "merged_data = merged_data.drop(columns=['YEAR', 'MONTH', 'PRICING_DATE'], errors='ignore')\n",
    "\n",
    "# Drop rows with missing values in the columns of interest\n",
    "merged_data = merged_data.dropna(subset=['SHORT_INTEREST_PCT_FLOAT', 'MARKET_CAP_USD'])"
   ]
  },
  {
   "cell_type": "code",
   "execution_count": 21,
   "metadata": {},
   "outputs": [
    {
     "name": "stdout",
     "output_type": "stream",
     "text": [
      "|     | MONTH_END           |   COMPANY_ID |   SHORT_INTEREST_PCT_FLOAT |   MARKET_CAP_USD |\n",
      "|----:|:--------------------|-------------:|---------------------------:|-----------------:|\n",
      "| 204 | 2005-02-28 00:00:00 |        24153 |                0.000397153 |          269.641 |\n",
      "| 205 | 2005-03-31 00:00:00 |        24153 |                0.000444213 |          219.146 |\n",
      "| 206 | 2005-04-30 00:00:00 |        24153 |                0.000425021 |          201.978 |\n",
      "| 207 | 2005-05-31 00:00:00 |        24153 |                0.000329848 |          267.687 |\n",
      "| 208 | 2005-06-30 00:00:00 |        24153 |                0.000313068 |          318.578 |\n"
     ]
    }
   ],
   "source": [
    "print(merged_data.head().to_markdown())"
   ]
  },
  {
   "cell_type": "code",
   "execution_count": 23,
   "metadata": {},
   "outputs": [],
   "source": [
    "import statsmodels.api as sm\n",
    "import pandas as pd\n",
    "\n",
    "# Ensure numeric types (convert non-numeric values to NaN)\n",
    "merged_data['MARKET_CAP_USD'] = pd.to_numeric(merged_data['MARKET_CAP_USD'], errors='coerce')\n",
    "merged_data['SHORT_INTEREST_PCT_FLOAT'] = pd.to_numeric(merged_data['SHORT_INTEREST_PCT_FLOAT'], errors='coerce')\n",
    "\n",
    "# Drop rows where either column is NaN after conversion\n",
    "merged_data = merged_data.dropna(subset=['MARKET_CAP_USD', 'SHORT_INTEREST_PCT_FLOAT'])\n",
    "\n",
    "# Define independent (X) and dependent (y) variables\n",
    "X = merged_data['MARKET_CAP_USD']\n",
    "y = merged_data['SHORT_INTEREST_PCT_FLOAT']\n",
    "\n",
    "# Add a constant to X for intercept\n",
    "X = sm.add_constant(X)\n",
    "\n",
    "# Fit the linear regression model\n",
    "model = sm.OLS(y, X, missing='drop').fit()\n",
    "\n",
    "# Store residuals in a new column\n",
    "merged_data['SHORT_INTEREST_RESIDUALIZED'] = model.resid"
   ]
  },
  {
   "cell_type": "code",
   "execution_count": 25,
   "metadata": {},
   "outputs": [],
   "source": [
    "filtered_merged_data = merged_data[['MONTH_END', 'COMPANY_ID', 'SHORT_INTEREST_RESIDUALIZED']]"
   ]
  },
  {
   "cell_type": "code",
   "execution_count": 26,
   "metadata": {},
   "outputs": [],
   "source": [
    "PROCESSED_DATA_DIR = os.path.abspath(\"../../data/processed\")\n",
    "\n",
    "filtered_merged_data.to_csv(os.path.join(PROCESSED_DATA_DIR, \"residualized_short_interest.csv\"), index=False)"
   ]
  },
  {
   "cell_type": "code",
   "execution_count": null,
   "metadata": {},
   "outputs": [],
   "source": []
  }
 ],
 "metadata": {
  "kernelspec": {
   "display_name": "venv",
   "language": "python",
   "name": "python3"
  },
  "language_info": {
   "codemirror_mode": {
    "name": "ipython",
    "version": 3
   },
   "file_extension": ".py",
   "mimetype": "text/x-python",
   "name": "python",
   "nbconvert_exporter": "python",
   "pygments_lexer": "ipython3",
   "version": "3.13.1"
  }
 },
 "nbformat": 4,
 "nbformat_minor": 2
}
