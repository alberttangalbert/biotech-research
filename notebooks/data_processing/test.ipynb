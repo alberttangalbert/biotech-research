{
 "cells": [
  {
   "cell_type": "code",
   "execution_count": 3,
   "metadata": {},
   "outputs": [
    {
     "name": "stdout",
     "output_type": "stream",
     "text": [
      "Non-derivative transactions shape:  (165918, 13)\n"
     ]
    }
   ],
   "source": [
    "import pandas as pd\n",
    "import os\n",
    "\n",
    "# Define base data directory\n",
    "RAW_DATA_DIR = os.path.abspath(\"../../data/raw\")\n",
    "\n",
    "# Load datasets\n",
    "nd_transactions = pd.read_csv(os.path.join(RAW_DATA_DIR, \"nonderiv_transactions.csv\"))\n",
    "print(\"Non-derivative transactions shape: \", nd_transactions.shape)\n",
    "assert nd_transactions.shape == (165918, 13)"
   ]
  },
  {
   "cell_type": "code",
   "execution_count": null,
   "metadata": {},
   "outputs": [],
   "source": [
    "import pandas as pd\n",
    "import os\n",
    "\n",
    "# Define base data directory\n",
    "RAW_DATA_DIR = os.path.abspath(\"../../data/raw\")\n",
    "\n",
    "# Load datasets\n",
    "nd_transactions = pd.read_csv(os.path.join(RAW_DATA_DIR, \"nonderiv_transactions.csv\"))\n",
    "print(\"Non-derivative transactions shape: \", nd_transactions.shape)\n",
    "assert nd_transactions.shape == (165918, 13)"
   ]
  }
 ],
 "metadata": {
  "kernelspec": {
   "display_name": "venv",
   "language": "python",
   "name": "python3"
  },
  "language_info": {
   "codemirror_mode": {
    "name": "ipython",
    "version": 3
   },
   "file_extension": ".py",
   "mimetype": "text/x-python",
   "name": "python",
   "nbconvert_exporter": "python",
   "pygments_lexer": "ipython3",
   "version": "3.13.1"
  }
 },
 "nbformat": 4,
 "nbformat_minor": 2
}
